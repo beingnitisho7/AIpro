{
 "cells": [
  {
   "cell_type": "code",
   "execution_count": 1,
   "metadata": {},
   "outputs": [],
   "source": [
    "import numpy as np\n",
    "import matplotlib.pyplot as plt\n",
    "import pandas as pd"
   ]
  },
  {
   "cell_type": "code",
   "execution_count": 2,
   "metadata": {},
   "outputs": [],
   "source": [
    "dataset = pd.read_csv('Churn_Modelling.csv')\n",
    "X = dataset.iloc[:, 3:13].values\n",
    "y = dataset.iloc[:, 13].values"
   ]
  },
  {
   "cell_type": "code",
   "execution_count": 14,
   "metadata": {},
   "outputs": [],
   "source": [
    "# dataset"
   ]
  },
  {
   "cell_type": "code",
   "execution_count": 3,
   "metadata": {},
   "outputs": [],
   "source": [
    "from sklearn.preprocessing import LabelEncoder, OneHotEncoder\n",
    "labelencoder_X_1 = LabelEncoder()\n",
    "X[:, 1] = labelencoder_X_1.fit_transform(X[:, 1])  # France, germany wala name lai 0,1 banauna\n",
    "labelencoder_X_2 = LabelEncoder()\n",
    "X[:, 2] = labelencoder_X_2.fit_transform(X[:, 2])\n",
    "onehotencoder = OneHotEncoder(categorical_features = [1])\n",
    "X = onehotencoder.fit_transform(X).toarray() #dummy variable lai milauxa\n",
    "X = X[:, 1:] #dummy variable ko trap todxa. euta column hatauxa "
   ]
  },
  {
   "cell_type": "code",
   "execution_count": 4,
   "metadata": {},
   "outputs": [],
   "source": [
    "from sklearn.model_selection import train_test_split\n",
    "X_train, X_test, y_train, y_test = train_test_split(X, y, test_size = 0.2, random_state = 0)"
   ]
  },
  {
   "cell_type": "code",
   "execution_count": 5,
   "metadata": {},
   "outputs": [],
   "source": [
    "from sklearn.preprocessing import StandardScaler\n",
    "sc = StandardScaler()\n",
    "X_train = sc.fit_transform(X_train)\n",
    "X_test = sc.transform(X_test)"
   ]
  },
  {
   "cell_type": "code",
   "execution_count": 6,
   "metadata": {},
   "outputs": [
    {
     "name": "stderr",
     "output_type": "stream",
     "text": [
      "D:\\Anaconda\\lib\\site-packages\\h5py\\__init__.py:36: FutureWarning: Conversion of the second argument of issubdtype from `float` to `np.floating` is deprecated. In future, it will be treated as `np.float64 == np.dtype(float).type`.\n",
      "  from ._conv import register_converters as _register_converters\n",
      "Using TensorFlow backend.\n"
     ]
    }
   ],
   "source": [
    "import keras\n",
    "from keras.models import Sequential\n",
    "from keras.layers import Dense"
   ]
  },
  {
   "cell_type": "code",
   "execution_count": 7,
   "metadata": {},
   "outputs": [],
   "source": [
    "classifier = Sequential()"
   ]
  },
  {
   "cell_type": "code",
   "execution_count": 8,
   "metadata": {},
   "outputs": [
    {
     "name": "stdout",
     "output_type": "stream",
     "text": [
      "WARNING:tensorflow:From D:\\Anaconda\\lib\\site-packages\\tensorflow\\python\\framework\\op_def_library.py:263: colocate_with (from tensorflow.python.framework.ops) is deprecated and will be removed in a future version.\n",
      "Instructions for updating:\n",
      "Colocations handled automatically by placer.\n"
     ]
    },
    {
     "name": "stderr",
     "output_type": "stream",
     "text": [
      "D:\\Anaconda\\lib\\site-packages\\ipykernel_launcher.py:1: UserWarning: Update your `Dense` call to the Keras 2 API: `Dense(activation=\"relu\", input_dim=11, units=6, kernel_initializer=\"uniform\")`\n",
      "  \"\"\"Entry point for launching an IPython kernel.\n",
      "D:\\Anaconda\\lib\\site-packages\\ipykernel_launcher.py:2: UserWarning: Update your `Dense` call to the Keras 2 API: `Dense(activation=\"relu\", units=6, kernel_initializer=\"uniform\")`\n",
      "  \n",
      "D:\\Anaconda\\lib\\site-packages\\ipykernel_launcher.py:3: UserWarning: Update your `Dense` call to the Keras 2 API: `Dense(activation=\"sigmoid\", units=1, kernel_initializer=\"uniform\")`\n",
      "  This is separate from the ipykernel package so we can avoid doing imports until\n"
     ]
    }
   ],
   "source": [
    "classifier.add(Dense(output_dim = 6, init = 'uniform', activation = 'relu', input_dim = 11))\n",
    "classifier.add(Dense(output_dim = 6, init = 'uniform', activation = 'relu'))\n",
    "classifier.add(Dense(output_dim = 1, init = 'uniform', activation = 'sigmoid'))\n",
    "classifier.compile(optimizer = 'adam', loss = 'binary_crossentropy', metrics = ['accuracy'])\n",
    "\n",
    "#Optimizer is algorithm to choose uptimal set of weight in ANN. Find best weight"
   ]
  },
  {
   "cell_type": "code",
   "execution_count": 9,
   "metadata": {},
   "outputs": [
    {
     "name": "stdout",
     "output_type": "stream",
     "text": [
      "WARNING:tensorflow:From D:\\Anaconda\\lib\\site-packages\\tensorflow\\python\\ops\\math_ops.py:3066: to_int32 (from tensorflow.python.ops.math_ops) is deprecated and will be removed in a future version.\n",
      "Instructions for updating:\n",
      "Use tf.cast instead.\n"
     ]
    },
    {
     "name": "stderr",
     "output_type": "stream",
     "text": [
      "D:\\Anaconda\\lib\\site-packages\\ipykernel_launcher.py:1: UserWarning: The `nb_epoch` argument in `fit` has been renamed `epochs`.\n",
      "  \"\"\"Entry point for launching an IPython kernel.\n"
     ]
    },
    {
     "name": "stdout",
     "output_type": "stream",
     "text": [
      "Epoch 1/100\n",
      "8000/8000 [==============================] - 2s 212us/step - loss: 0.4855 - acc: 0.7960\n",
      "Epoch 2/100\n",
      "8000/8000 [==============================] - 1s 98us/step - loss: 0.4304 - acc: 0.7960\n",
      "Epoch 3/100\n",
      "8000/8000 [==============================] - 1s 111us/step - loss: 0.4267 - acc: 0.7960\n",
      "Epoch 4/100\n",
      "8000/8000 [==============================] - 1s 186us/step - loss: 0.4219 - acc: 0.8024\n",
      "Epoch 5/100\n",
      "8000/8000 [==============================] - 1s 126us/step - loss: 0.4184 - acc: 0.8236\n",
      "Epoch 6/100\n",
      "8000/8000 [==============================] - 1s 88us/step - loss: 0.4154 - acc: 0.8276\n",
      "Epoch 7/100\n",
      "8000/8000 [==============================] - 1s 158us/step - loss: 0.4141 - acc: 0.8274\n",
      "Epoch 8/100\n",
      "8000/8000 [==============================] - 1s 156us/step - loss: 0.4132 - acc: 0.8295\n",
      "Epoch 9/100\n",
      "8000/8000 [==============================] - 1s 131us/step - loss: 0.4119 - acc: 0.8316\n",
      "Epoch 10/100\n",
      "8000/8000 [==============================] - 1s 130us/step - loss: 0.4113 - acc: 0.8317\n",
      "Epoch 11/100\n",
      "8000/8000 [==============================] - 1s 159us/step - loss: 0.4098 - acc: 0.8325\n",
      "Epoch 12/100\n",
      "8000/8000 [==============================] - 1s 151us/step - loss: 0.4098 - acc: 0.8341\n",
      "Epoch 13/100\n",
      "8000/8000 [==============================] - 1s 95us/step - loss: 0.4091 - acc: 0.8342\n",
      "Epoch 14/100\n",
      "8000/8000 [==============================] - 1s 166us/step - loss: 0.4083 - acc: 0.8342 0s - loss: 0.4093 - acc: \n",
      "Epoch 15/100\n",
      "8000/8000 [==============================] - 1s 151us/step - loss: 0.4070 - acc: 0.8329\n",
      "Epoch 16/100\n",
      "8000/8000 [==============================] - 1s 118us/step - loss: 0.4072 - acc: 0.8347\n",
      "Epoch 17/100\n",
      "8000/8000 [==============================] - 1s 145us/step - loss: 0.4063 - acc: 0.8335\n",
      "Epoch 18/100\n",
      "8000/8000 [==============================] - 1s 133us/step - loss: 0.4059 - acc: 0.8350\n",
      "Epoch 19/100\n",
      "8000/8000 [==============================] - 1s 155us/step - loss: 0.4063 - acc: 0.8351 1s - loss: \n",
      "Epoch 20/100\n",
      "8000/8000 [==============================] - 1s 131us/step - loss: 0.4052 - acc: 0.8354\n",
      "Epoch 21/100\n",
      "8000/8000 [==============================] - 1s 156us/step - loss: 0.4046 - acc: 0.8366\n",
      "Epoch 22/100\n",
      "8000/8000 [==============================] - 1s 180us/step - loss: 0.4048 - acc: 0.8339 1s - lo\n",
      "Epoch 23/100\n",
      "8000/8000 [==============================] - 1s 123us/step - loss: 0.4046 - acc: 0.8352 0s - loss: 0.4044 - acc: 0.83\n",
      "Epoch 24/100\n",
      "8000/8000 [==============================] - 2s 235us/step - loss: 0.4036 - acc: 0.8356\n",
      "Epoch 25/100\n",
      "8000/8000 [==============================] - 2s 221us/step - loss: 0.4041 - acc: 0.8350 2\n",
      "Epoch 26/100\n",
      "8000/8000 [==============================] - 1s 164us/step - loss: 0.4039 - acc: 0.8345\n",
      "Epoch 27/100\n",
      "8000/8000 [==============================] - 1s 100us/step - loss: 0.4034 - acc: 0.8352\n",
      "Epoch 28/100\n",
      "8000/8000 [==============================] - 1s 166us/step - loss: 0.4030 - acc: 0.8346 0s - loss: 0.3965 - \n",
      "Epoch 29/100\n",
      "8000/8000 [==============================] - 2s 188us/step - loss: 0.4031 - acc: 0.8347\n",
      "Epoch 30/100\n",
      "8000/8000 [==============================] - 1s 144us/step - loss: 0.4030 - acc: 0.8349\n",
      "Epoch 31/100\n",
      "8000/8000 [==============================] - ETA: 0s - loss: 0.4017 - acc: 0.8349- ETA: 0s - loss: 0.3970 - acc - 1s 139us/step - loss: 0.4027 - acc: 0.8342\n",
      "Epoch 32/100\n",
      "8000/8000 [==============================] - 1s 184us/step - loss: 0.4028 - acc: 0.8345\n",
      "Epoch 33/100\n",
      "8000/8000 [==============================] - 1s 136us/step - loss: 0.4021 - acc: 0.8351 0s - loss: 0.3849 - acc\n",
      "Epoch 34/100\n",
      "8000/8000 [==============================] - 1s 124us/step - loss: 0.4026 - acc: 0.8342\n",
      "Epoch 35/100\n",
      "8000/8000 [==============================] - 1s 169us/step - loss: 0.4023 - acc: 0.8352 0s - loss: 0.\n",
      "Epoch 36/100\n",
      "8000/8000 [==============================] - 1s 172us/step - loss: 0.4027 - acc: 0.8340\n",
      "Epoch 37/100\n",
      "8000/8000 [==============================] - 1s 134us/step - loss: 0.4024 - acc: 0.8365\n",
      "Epoch 38/100\n",
      "8000/8000 [==============================] - 1s 123us/step - loss: 0.4021 - acc: 0.8340\n",
      "Epoch 39/100\n",
      "8000/8000 [==============================] - 1s 178us/step - loss: 0.4021 - acc: 0.8342\n",
      "Epoch 40/100\n",
      "8000/8000 [==============================] - 1s 171us/step - loss: 0.4019 - acc: 0.8352\n",
      "Epoch 41/100\n",
      "8000/8000 [==============================] - 1s 187us/step - loss: 0.4019 - acc: 0.8347\n",
      "Epoch 42/100\n",
      "8000/8000 [==============================] - 1s 167us/step - loss: 0.4016 - acc: 0.8361\n",
      "Epoch 43/100\n",
      "8000/8000 [==============================] - 1s 109us/step - loss: 0.4023 - acc: 0.8351\n",
      "Epoch 44/100\n",
      "8000/8000 [==============================] - 1s 143us/step - loss: 0.4019 - acc: 0.8354\n",
      "Epoch 45/100\n",
      "8000/8000 [==============================] - 1s 137us/step - loss: 0.4018 - acc: 0.8345\n",
      "Epoch 46/100\n",
      "8000/8000 [==============================] - 1s 156us/step - loss: 0.4017 - acc: 0.8345\n",
      "Epoch 47/100\n",
      "8000/8000 [==============================] - 1s 98us/step - loss: 0.4016 - acc: 0.8347\n",
      "Epoch 48/100\n",
      "8000/8000 [==============================] - 1s 131us/step - loss: 0.4019 - acc: 0.8336\n",
      "Epoch 49/100\n",
      "8000/8000 [==============================] - 2s 209us/step - loss: 0.4010 - acc: 0.8340\n",
      "Epoch 50/100\n",
      "8000/8000 [==============================] - 1s 135us/step - loss: 0.4016 - acc: 0.8340\n",
      "Epoch 51/100\n",
      "8000/8000 [==============================] - 1s 153us/step - loss: 0.4010 - acc: 0.8361\n",
      "Epoch 52/100\n",
      "8000/8000 [==============================] - 1s 163us/step - loss: 0.4016 - acc: 0.8355\n",
      "Epoch 53/100\n",
      "8000/8000 [==============================] - 1s 170us/step - loss: 0.4018 - acc: 0.8334\n",
      "Epoch 54/100\n",
      "8000/8000 [==============================] - 1s 176us/step - loss: 0.4015 - acc: 0.8354\n",
      "Epoch 55/100\n",
      "8000/8000 [==============================] - 1s 150us/step - loss: 0.4004 - acc: 0.8350\n",
      "Epoch 56/100\n",
      "8000/8000 [==============================] - 1s 87us/step - loss: 0.4017 - acc: 0.8346\n",
      "Epoch 57/100\n",
      "8000/8000 [==============================] - 1s 125us/step - loss: 0.4010 - acc: 0.8356\n",
      "Epoch 58/100\n",
      "8000/8000 [==============================] - 1s 115us/step - loss: 0.4013 - acc: 0.8342\n",
      "Epoch 59/100\n",
      "8000/8000 [==============================] - 1s 168us/step - loss: 0.4017 - acc: 0.8355\n",
      "Epoch 60/100\n",
      "8000/8000 [==============================] - 1s 104us/step - loss: 0.4013 - acc: 0.8341\n",
      "Epoch 61/100\n",
      "8000/8000 [==============================] - 1s 173us/step - loss: 0.4008 - acc: 0.8345\n",
      "Epoch 62/100\n",
      "8000/8000 [==============================] - 1s 179us/step - loss: 0.4012 - acc: 0.8360\n",
      "Epoch 63/100\n",
      "8000/8000 [==============================] - 1s 110us/step - loss: 0.4011 - acc: 0.8342\n",
      "Epoch 64/100\n",
      "8000/8000 [==============================] - 1s 150us/step - loss: 0.4013 - acc: 0.8351\n",
      "Epoch 65/100\n",
      "8000/8000 [==============================] - 1s 154us/step - loss: 0.4006 - acc: 0.8344\n",
      "Epoch 66/100\n",
      "8000/8000 [==============================] - 1s 141us/step - loss: 0.4006 - acc: 0.8350\n",
      "Epoch 67/100\n",
      "8000/8000 [==============================] - 1s 117us/step - loss: 0.4010 - acc: 0.8345\n",
      "Epoch 68/100\n",
      "8000/8000 [==============================] - 1s 138us/step - loss: 0.4005 - acc: 0.8356\n",
      "Epoch 69/100\n",
      "8000/8000 [==============================] - 1s 183us/step - loss: 0.4009 - acc: 0.8349\n",
      "Epoch 70/100\n",
      "8000/8000 [==============================] - 1s 92us/step - loss: 0.4007 - acc: 0.8355\n",
      "Epoch 71/100\n",
      "8000/8000 [==============================] - 1s 130us/step - loss: 0.4009 - acc: 0.8352\n",
      "Epoch 72/100\n",
      "8000/8000 [==============================] - 1s 187us/step - loss: 0.4005 - acc: 0.8356\n",
      "Epoch 73/100\n",
      "8000/8000 [==============================] - 1s 123us/step - loss: 0.4003 - acc: 0.8347\n",
      "Epoch 74/100\n",
      "8000/8000 [==============================] - 1s 112us/step - loss: 0.4005 - acc: 0.8356\n",
      "Epoch 75/100\n",
      "8000/8000 [==============================] - 1s 161us/step - loss: 0.4001 - acc: 0.8350\n",
      "Epoch 76/100\n",
      "8000/8000 [==============================] - 1s 168us/step - loss: 0.4007 - acc: 0.8357\n",
      "Epoch 77/100\n",
      "8000/8000 [==============================] - 1s 104us/step - loss: 0.4006 - acc: 0.8362\n",
      "Epoch 78/100\n",
      "8000/8000 [==============================] - 1s 132us/step - loss: 0.4002 - acc: 0.8354\n",
      "Epoch 79/100\n"
     ]
    },
    {
     "name": "stdout",
     "output_type": "stream",
     "text": [
      "8000/8000 [==============================] - 2s 200us/step - loss: 0.4006 - acc: 0.8354 0s - loss: 0.4010 - acc: 0.83 - ETA: 0s - loss: 0.4011 - ac\n",
      "Epoch 80/100\n",
      "8000/8000 [==============================] - 1s 132us/step - loss: 0.4005 - acc: 0.8349\n",
      "Epoch 81/100\n",
      "8000/8000 [==============================] - 1s 125us/step - loss: 0.4003 - acc: 0.8334\n",
      "Epoch 82/100\n",
      "8000/8000 [==============================] - 2s 216us/step - loss: 0.4006 - acc: 0.8331\n",
      "Epoch 83/100\n",
      "8000/8000 [==============================] - 1s 111us/step - loss: 0.4001 - acc: 0.8354 0s - loss: 0.4096\n",
      "Epoch 84/100\n",
      "8000/8000 [==============================] - 1s 102us/step - loss: 0.4006 - acc: 0.8337\n",
      "Epoch 85/100\n",
      "8000/8000 [==============================] - 1s 182us/step - loss: 0.4001 - acc: 0.8340 0s - loss: 0.4016 - acc: 0.\n",
      "Epoch 86/100\n",
      "8000/8000 [==============================] - 1s 154us/step - loss: 0.4004 - acc: 0.8345\n",
      "Epoch 87/100\n",
      "8000/8000 [==============================] - 1s 95us/step - loss: 0.3996 - acc: 0.8350\n",
      "Epoch 88/100\n",
      "8000/8000 [==============================] - 1s 136us/step - loss: 0.4006 - acc: 0.8352\n",
      "Epoch 89/100\n",
      "8000/8000 [==============================] - 1s 187us/step - loss: 0.3996 - acc: 0.8345\n",
      "Epoch 90/100\n",
      "8000/8000 [==============================] - 1s 112us/step - loss: 0.4006 - acc: 0.8362\n",
      "Epoch 91/100\n",
      "8000/8000 [==============================] - 1s 115us/step - loss: 0.4000 - acc: 0.8341\n",
      "Epoch 92/100\n",
      "8000/8000 [==============================] - 2s 206us/step - loss: 0.4000 - acc: 0.8349 0s - loss: 0.4\n",
      "Epoch 93/100\n",
      "8000/8000 [==============================] - 1s 138us/step - loss: 0.3999 - acc: 0.8346\n",
      "Epoch 94/100\n",
      "8000/8000 [==============================] - 1s 111us/step - loss: 0.4007 - acc: 0.8346\n",
      "Epoch 95/100\n",
      "8000/8000 [==============================] - 1s 180us/step - loss: 0.4002 - acc: 0.8342\n",
      "Epoch 96/100\n",
      "8000/8000 [==============================] - 1s 157us/step - loss: 0.4002 - acc: 0.8347\n",
      "Epoch 97/100\n",
      "8000/8000 [==============================] - 1s 119us/step - loss: 0.4003 - acc: 0.8342\n",
      "Epoch 98/100\n",
      "8000/8000 [==============================] - 1s 170us/step - loss: 0.4001 - acc: 0.8345\n",
      "Epoch 99/100\n",
      "8000/8000 [==============================] - 1s 162us/step - loss: 0.4003 - acc: 0.8346\n",
      "Epoch 100/100\n",
      "8000/8000 [==============================] - 1s 132us/step - loss: 0.3999 - acc: 0.8361\n"
     ]
    },
    {
     "data": {
      "text/plain": [
       "<keras.callbacks.History at 0x1ab51540da0>"
      ]
     },
     "execution_count": 9,
     "metadata": {},
     "output_type": "execute_result"
    }
   ],
   "source": [
    "classifier.fit(X_train, y_train, batch_size = 10, nb_epoch = 100)"
   ]
  },
  {
   "cell_type": "code",
   "execution_count": 15,
   "metadata": {},
   "outputs": [],
   "source": [
    "y_pred = classifier.predict(X_test)\n",
    "y_pred = (y_pred > 0.5)"
   ]
  },
  {
   "cell_type": "code",
   "execution_count": 16,
   "metadata": {},
   "outputs": [],
   "source": [
    "from sklearn.metrics import confusion_matrix\n",
    "cm = confusion_matrix(y_test, y_pred)"
   ]
  },
  {
   "cell_type": "code",
   "execution_count": null,
   "metadata": {},
   "outputs": [],
   "source": []
  }
 ],
 "metadata": {
  "kernelspec": {
   "display_name": "Python 3",
   "language": "python",
   "name": "python3"
  },
  "language_info": {
   "codemirror_mode": {
    "name": "ipython",
    "version": 3
   },
   "file_extension": ".py",
   "mimetype": "text/x-python",
   "name": "python",
   "nbconvert_exporter": "python",
   "pygments_lexer": "ipython3",
   "version": "3.6.4"
  }
 },
 "nbformat": 4,
 "nbformat_minor": 2
}
